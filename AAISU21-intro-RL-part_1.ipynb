{
 "cells": [
  {
   "cell_type": "markdown",
   "id": "5d7f4fbc",
   "metadata": {
    "ExecuteTime": {
     "end_time": "2021-08-24T11:55:19.340714Z",
     "start_time": "2021-08-24T11:55:19.337622Z"
    }
   },
   "source": [
    "<div class=\"alert alert-block alert-info\">\n",
    "    <h1>A practial introduction to policy search in RL </h1><br>\n",
    "    <span>Algerian AI Summer University, August 2021</span>\n",
    "</div>"
   ]
  },
  {
   "cell_type": "markdown",
   "id": "e6fa6869",
   "metadata": {},
   "source": [
    "### Outline\n",
    "- Part I: Introduction to the RL paradigm and getting familiar with `gym`\n",
    "- Part II:Implementing Policy Gradient"
   ]
  },
  {
   "cell_type": "markdown",
   "id": "0e56732f",
   "metadata": {},
   "source": [
    "# 1. Introduction to the RL paradigm"
   ]
  },
  {
   "cell_type": "markdown",
   "id": "116e95cf",
   "metadata": {
    "ExecuteTime": {
     "end_time": "2021-08-19T08:49:36.583234Z",
     "start_time": "2021-08-19T08:49:36.578241Z"
    }
   },
   "source": [
    "## Imports and useful functions"
   ]
  },
  {
   "cell_type": "markdown",
   "id": "d8cfa31f",
   "metadata": {},
   "source": [
    "First, installing some libraries if not done already in your terminal"
   ]
  },
  {
   "cell_type": "code",
   "execution_count": null,
   "id": "7fa54a47",
   "metadata": {},
   "outputs": [],
   "source": [
    "!pip install torch==1.9.0 torchvision pyvirtualdisplay gym numpy pandas python-box plotly tqdm\n",
    "!sudo apt-get install xvfb"
   ]
  },
  {
   "cell_type": "markdown",
   "id": "4a36773e",
   "metadata": {},
   "source": [
    "Gym (it provides RL environments) with a simple interface."
   ]
  },
  {
   "cell_type": "code",
   "execution_count": 1,
   "id": "536001d8",
   "metadata": {
    "ExecuteTime": {
     "end_time": "2021-08-24T13:29:54.602684Z",
     "start_time": "2021-08-24T13:29:54.580989Z"
    }
   },
   "outputs": [],
   "source": [
    "import gym\n",
    "from gym.wrappers import Monitor"
   ]
  },
  {
   "cell_type": "markdown",
   "id": "4e5cce90",
   "metadata": {
    "ExecuteTime": {
     "end_time": "2021-08-19T08:53:19.421884Z",
     "start_time": "2021-08-19T08:53:19.412198Z"
    }
   },
   "source": [
    "A utility function to display short videos of the environments"
   ]
  },
  {
   "cell_type": "code",
   "execution_count": 2,
   "id": "8cefd7df",
   "metadata": {
    "ExecuteTime": {
     "end_time": "2021-08-24T13:29:55.378539Z",
     "start_time": "2021-08-24T13:29:55.362524Z"
    }
   },
   "outputs": [],
   "source": [
    "from pyvirtualdisplay import Display\n",
    "from IPython import display as ipythondisplay\n",
    "from pathlib import Path\n",
    "import base64\n",
    "\n",
    "def show_video(directory):\n",
    "    html = []\n",
    "    for mp4 in Path(directory).glob(\"*.mp4\"):\n",
    "        video_b64 = base64.b64encode(mp4.read_bytes())\n",
    "        html.append('''<video alt=\"{}\" autoplay \n",
    "                      loop controls style=\"height: 400px;\">\n",
    "                      <source src=\"data:video/mp4;base64,{}\" type=\"video/mp4\" />\n",
    "                 </video>'''.format(mp4, video_b64.decode('ascii')))\n",
    "    ipythondisplay.display(ipythondisplay.HTML(data=\"<br>\".join(html)))"
   ]
  },
  {
   "cell_type": "code",
   "execution_count": 3,
   "id": "c7c83acf",
   "metadata": {
    "ExecuteTime": {
     "end_time": "2021-08-24T13:29:55.698606Z",
     "start_time": "2021-08-24T13:29:55.637601Z"
    }
   },
   "outputs": [],
   "source": [
    "display = Display(visible=0, size=(1400, 900))\n",
    "display.start();"
   ]
  },
  {
   "cell_type": "markdown",
   "id": "6d87df82",
   "metadata": {},
   "source": [
    "Setting the random seeds to make the random outputs reproducible. Mandatory for debugging, developing algorithms, but proscribed when running exeperiments."
   ]
  },
  {
   "cell_type": "code",
   "execution_count": 4,
   "id": "2c1d96c3",
   "metadata": {
    "ExecuteTime": {
     "end_time": "2021-08-24T13:29:56.435313Z",
     "start_time": "2021-08-24T13:29:56.432734Z"
    }
   },
   "outputs": [],
   "source": [
    "seed = 1337\n",
    "# np.random.seed(seed=seed)\n",
    "# torch.manual_seed(seed)"
   ]
  },
  {
   "cell_type": "markdown",
   "id": "5430bbd8",
   "metadata": {
    "ExecuteTime": {
     "end_time": "2021-08-19T08:47:22.683420Z",
     "start_time": "2021-08-19T08:47:22.591097Z"
    }
   },
   "source": [
    "## The gym library"
   ]
  },
  {
   "cell_type": "markdown",
   "id": "f87c166b",
   "metadata": {},
   "source": [
    "Please consult the online documentation of the [OpenAI's Gym library](https://gym.openai.com/envs/) if needed."
   ]
  },
  {
   "cell_type": "markdown",
   "id": "70ae883c",
   "metadata": {},
   "source": [
    "Let's start with a simple environment, the `CartPole` environment. "
   ]
  },
  {
   "cell_type": "code",
   "execution_count": 5,
   "id": "91e4babf",
   "metadata": {
    "ExecuteTime": {
     "end_time": "2021-08-24T13:30:01.517878Z",
     "start_time": "2021-08-24T13:30:01.503877Z"
    }
   },
   "outputs": [],
   "source": [
    "env = gym.make(\"CartPole-v1\")  # creates the environment with a specific version for reproducibilty."
   ]
  },
  {
   "cell_type": "code",
   "execution_count": 6,
   "id": "b90ff42b",
   "metadata": {
    "ExecuteTime": {
     "end_time": "2021-08-24T13:30:01.925173Z",
     "start_time": "2021-08-24T13:30:01.917949Z"
    }
   },
   "outputs": [
    {
     "data": {
      "text/plain": [
       "array([ 0.04151339, -0.02357168, -0.02631842,  0.03846078])"
      ]
     },
     "execution_count": 6,
     "metadata": {},
     "output_type": "execute_result"
    }
   ],
   "source": [
    "env.reset()  # returns the first observation"
   ]
  },
  {
   "cell_type": "markdown",
   "id": "24118aa4",
   "metadata": {},
   "source": [
    "These correspond to \n",
    "\n",
    "| Position  | Observation          | Min      | Max     |\n",
    "| ---- | -------------------- | -------- | ------- |\n",
    "| 0    | Cart Position        | -2.4     | 2.4     |\n",
    "| 1    | Cart Velocity        | -Inf     | Inf     |\n",
    "| 2    | Pole Angle           | ~ -41.8° | ~ 41.8° |\n",
    "| 3    | Pole Velocity At Tip | -Inf     | Inf     |\n",
    "\n",
    "Source: https://github.com/openai/gym/wiki/CartPole-v0"
   ]
  },
  {
   "cell_type": "markdown",
   "id": "a7472796",
   "metadata": {},
   "source": [
    "One can also lookup the type and boundaries of the variables"
   ]
  },
  {
   "cell_type": "code",
   "execution_count": 7,
   "id": "e2f0adaf",
   "metadata": {
    "ExecuteTime": {
     "end_time": "2021-08-24T13:30:08.255410Z",
     "start_time": "2021-08-24T13:30:08.249731Z"
    }
   },
   "outputs": [
    {
     "data": {
      "text/plain": [
       "Box(-3.4028234663852886e+38, 3.4028234663852886e+38, (4,), float32)"
      ]
     },
     "execution_count": 7,
     "metadata": {},
     "output_type": "execute_result"
    }
   ],
   "source": [
    "env.observation_space"
   ]
  },
  {
   "cell_type": "markdown",
   "id": "bcc184a8",
   "metadata": {},
   "source": [
    "Similarly, for the actions..."
   ]
  },
  {
   "cell_type": "code",
   "execution_count": 16,
   "id": "7bed61d1",
   "metadata": {
    "ExecuteTime": {
     "end_time": "2021-08-22T21:15:26.692371Z",
     "start_time": "2021-08-22T21:15:26.682835Z"
    }
   },
   "outputs": [
    {
     "data": {
      "text/plain": [
       "Discrete(2)"
      ]
     },
     "execution_count": 16,
     "metadata": {},
     "output_type": "execute_result"
    }
   ],
   "source": [
    "env.action_space"
   ]
  },
  {
   "cell_type": "code",
   "execution_count": 17,
   "id": "d350d68c",
   "metadata": {
    "ExecuteTime": {
     "end_time": "2021-08-22T21:15:26.704169Z",
     "start_time": "2021-08-22T21:15:26.693887Z"
    }
   },
   "outputs": [],
   "source": [
    "action = 0"
   ]
  },
  {
   "cell_type": "code",
   "execution_count": 18,
   "id": "bb819fac",
   "metadata": {
    "ExecuteTime": {
     "end_time": "2021-08-22T21:15:26.719957Z",
     "start_time": "2021-08-22T21:15:26.705372Z"
    }
   },
   "outputs": [
    {
     "data": {
      "text/plain": [
       "(array([ 0.01870527, -0.19688779, -0.00536674,  0.27228453]), 1.0, False, {})"
      ]
     },
     "execution_count": 18,
     "metadata": {},
     "output_type": "execute_result"
    }
   ],
   "source": [
    "env.step(action)"
   ]
  },
  {
   "cell_type": "markdown",
   "id": "2fafd22c",
   "metadata": {},
   "source": [
    "This gives `next observation`, `the reward`, the `done` boolean flag, and some extra (optional) `info` ."
   ]
  },
  {
   "cell_type": "markdown",
   "id": "1ecb342c",
   "metadata": {},
   "source": [
    "Notice how the same action results in a different observation. "
   ]
  },
  {
   "cell_type": "code",
   "execution_count": 19,
   "id": "79363d45",
   "metadata": {
    "ExecuteTime": {
     "end_time": "2021-08-22T21:15:26.738092Z",
     "start_time": "2021-08-22T21:15:26.720916Z"
    }
   },
   "outputs": [
    {
     "data": {
      "text/plain": [
       "(array([ 1.47675138e-02, -3.91932755e-01,  7.89530596e-05,  5.63269944e-01]),\n",
       " 1.0,\n",
       " False,\n",
       " {})"
      ]
     },
     "execution_count": 19,
     "metadata": {},
     "output_type": "execute_result"
    }
   ],
   "source": [
    "env.step(action)"
   ]
  },
  {
   "cell_type": "markdown",
   "id": "cc471404",
   "metadata": {},
   "source": [
    "And then we close the env."
   ]
  },
  {
   "cell_type": "code",
   "execution_count": 20,
   "id": "090c0356",
   "metadata": {
    "ExecuteTime": {
     "end_time": "2021-08-22T21:15:26.750868Z",
     "start_time": "2021-08-22T21:15:26.738923Z"
    }
   },
   "outputs": [],
   "source": [
    "env.close()"
   ]
  },
  {
   "cell_type": "markdown",
   "id": "33c917e5",
   "metadata": {},
   "source": [
    "Let's make a full episode and log it. "
   ]
  },
  {
   "cell_type": "code",
   "execution_count": 21,
   "id": "0455a00e",
   "metadata": {
    "ExecuteTime": {
     "end_time": "2021-08-22T21:15:26.765651Z",
     "start_time": "2021-08-22T21:15:26.751983Z"
    }
   },
   "outputs": [],
   "source": [
    "env = gym.make(\"CartPole-v1\")\n",
    "logs_dir = \"./Results\"\n",
    "# `Monitor` will log the episodes and produce a video.\n",
    "env = Monitor(env, logs_dir, force=True, video_callable=lambda episode: True)"
   ]
  },
  {
   "cell_type": "markdown",
   "id": "14d4100a",
   "metadata": {},
   "source": [
    "### Exercise 1\n",
    "\n",
    "<div class=\"alert alert-block alert-warning\">\n",
    "Ex1. Write a loop that interacts with the environment the episode terminates\n",
    "</div>"
   ]
  },
  {
   "cell_type": "code",
   "execution_count": null,
   "id": "4db559ae",
   "metadata": {
    "ExecuteTime": {
     "end_time": "2021-08-22T21:15:27.257229Z",
     "start_time": "2021-08-22T21:15:26.766752Z"
    }
   },
   "outputs": [],
   "source": [
    "# terminal condition\n",
    "# initial state\n",
    "while True:  # the RL loop\n",
    "    # get the action. You can use env.action_space.sample() to a random action\n",
    "    # interact with the environment\n",
    "    # check the episode termination\n",
    "    pass"
   ]
  },
  {
   "cell_type": "code",
   "execution_count": 22,
   "id": "02dc0932",
   "metadata": {
    "ExecuteTime": {
     "end_time": "2021-08-22T21:15:27.257229Z",
     "start_time": "2021-08-22T21:15:26.766752Z"
    }
   },
   "outputs": [],
   "source": [
    "env.close()"
   ]
  },
  {
   "cell_type": "code",
   "execution_count": 23,
   "id": "a92b9c56",
   "metadata": {
    "ExecuteTime": {
     "end_time": "2021-08-22T21:15:27.261618Z",
     "start_time": "2021-08-22T21:15:27.258493Z"
    }
   },
   "outputs": [
    {
     "data": {
      "text/html": [
       "<video alt=\"Results/openaigym.video.0.9058.video000000.mp4\" autoplay \n",
       "                      loop controls style=\"height: 400px;\">\n",
       "                      <source src=\"data:video/mp4;base64,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\" type=\"video/mp4\" />\n",
       "                 </video>"
      ],
      "text/plain": [
       "<IPython.core.display.HTML object>"
      ]
     },
     "metadata": {},
     "output_type": "display_data"
    }
   ],
   "source": [
    "show_video(logs_dir)"
   ]
  },
  {
   "cell_type": "code",
   "execution_count": 24,
   "id": "8878f715",
   "metadata": {
    "ExecuteTime": {
     "end_time": "2021-08-22T21:15:27.418669Z",
     "start_time": "2021-08-22T21:15:27.262502Z"
    }
   },
   "outputs": [
    {
     "name": "stdout",
     "output_type": "stream",
     "text": [
      "openaigym.episode_batch.0.9058.stats.json\r\n",
      "openaigym.manifest.0.9058.manifest.json\r\n",
      "openaigym.video.0.9058.video000000.meta.json\r\n",
      "\u001b[0m\u001b[01;35mopenaigym.video.0.9058.video000000.mp4\u001b[0m\r\n"
     ]
    }
   ],
   "source": [
    "ls Results/"
   ]
  },
  {
   "cell_type": "markdown",
   "id": "4685ea0d",
   "metadata": {
    "ExecuteTime": {
     "end_time": "2021-08-24T13:33:26.539866Z",
     "start_time": "2021-08-24T13:33:26.534374Z"
    }
   },
   "source": [
    "## Other environments"
   ]
  },
  {
   "cell_type": "markdown",
   "id": "9f97544d",
   "metadata": {},
   "source": [
    "Let's try another classic. The `'Pendulum-v0'`"
   ]
  },
  {
   "cell_type": "markdown",
   "id": "fc41a10d",
   "metadata": {},
   "source": [
    "<div class=\"alert alert-block alert-warning\">\n",
    "Ex2: create the environment and show a video of an episode\n",
    "</div>"
   ]
  },
  {
   "cell_type": "code",
   "execution_count": null,
   "id": "759d5a25",
   "metadata": {},
   "outputs": [],
   "source": []
  },
  {
   "cell_type": "markdown",
   "id": "3ccee56e",
   "metadata": {},
   "source": [
    "<div class=\"alert alert-block alert-warning\">\n",
    "Ex3: What are the observation and action space? (find it with code)\n",
    "</div>"
   ]
  },
  {
   "cell_type": "code",
   "execution_count": null,
   "id": "c16ffbea",
   "metadata": {},
   "outputs": [],
   "source": []
  },
  {
   "cell_type": "markdown",
   "id": "e43c418b",
   "metadata": {},
   "source": [
    "Another classical environment. "
   ]
  },
  {
   "cell_type": "markdown",
   "id": "8673de4c",
   "metadata": {},
   "source": [
    "<div class=\"alert alert-block alert-warning\">\n",
    "Ex4: Same questions for the `'Acrobot-v1'` environment\n",
    "</div>"
   ]
  },
  {
   "cell_type": "code",
   "execution_count": null,
   "id": "7914b82e",
   "metadata": {},
   "outputs": [],
   "source": []
  },
  {
   "cell_type": "markdown",
   "id": "bc7a974c",
   "metadata": {},
   "source": [
    "<div class=\"alert alert-block alert-warning\">\n",
    "Ex5: Which one is the most difficult environment? Why\n",
    "</div>"
   ]
  },
  {
   "cell_type": "code",
   "execution_count": null,
   "id": "4f691150",
   "metadata": {},
   "outputs": [],
   "source": []
  },
  {
   "cell_type": "markdown",
   "id": "2c559169",
   "metadata": {},
   "source": [
    "## Appendix: specs and docs"
   ]
  },
  {
   "cell_type": "markdown",
   "id": "110c3a50",
   "metadata": {},
   "source": [
    "Table of the environment specs https://github.com/openai/gym/wiki/Table-of-environments\n",
    "\n",
    "- CartPole specifications https://github.com/openai/gym/wiki/CartPole-v0\n",
    "- Pendulum specifications https://github.com/openai/gym/wiki/Pendulum-v0\n",
    "- Acrobot specifications https://gym.openai.com/envs/Acrobot-v1/"
   ]
  },
  {
   "cell_type": "code",
   "execution_count": 29,
   "id": "5982fa89",
   "metadata": {
    "ExecuteTime": {
     "end_time": "2021-08-22T21:15:31.278530Z",
     "start_time": "2021-08-22T21:15:31.248292Z"
    }
   },
   "outputs": [],
   "source": [
    "gym.envs.classic_control.AcrobotEnv?"
   ]
  },
  {
   "cell_type": "code",
   "execution_count": 30,
   "id": "d9ee93ed",
   "metadata": {
    "ExecuteTime": {
     "end_time": "2021-08-22T21:15:31.298030Z",
     "start_time": "2021-08-22T21:15:31.281113Z"
    }
   },
   "outputs": [
    {
     "data": {
      "text/plain": [
       "<Monitor<TimeLimit<AcrobotEnv<Acrobot-v1>>>>"
      ]
     },
     "execution_count": 30,
     "metadata": {},
     "output_type": "execute_result"
    }
   ],
   "source": [
    "env  #.env.env"
   ]
  },
  {
   "cell_type": "code",
   "execution_count": 31,
   "id": "4f8c1c53",
   "metadata": {
    "ExecuteTime": {
     "end_time": "2021-08-22T21:15:31.312879Z",
     "start_time": "2021-08-22T21:15:31.299740Z"
    }
   },
   "outputs": [
    {
     "data": {
      "text/plain": [
       "Box(-28.274333953857422, 28.274333953857422, (6,), float32)"
      ]
     },
     "execution_count": 31,
     "metadata": {},
     "output_type": "execute_result"
    }
   ],
   "source": [
    "env.observation_space"
   ]
  },
  {
   "cell_type": "code",
   "execution_count": 32,
   "id": "49310b70",
   "metadata": {
    "ExecuteTime": {
     "end_time": "2021-08-22T21:15:31.332850Z",
     "start_time": "2021-08-22T21:15:31.313789Z"
    }
   },
   "outputs": [
    {
     "data": {
      "text/plain": [
       "Discrete(3)"
      ]
     },
     "execution_count": 32,
     "metadata": {},
     "output_type": "execute_result"
    }
   ],
   "source": [
    "env.action_space"
   ]
  }
 ],
 "metadata": {
  "kernelspec": {
   "display_name": "Python 3.9.1 EDA",
   "language": "python",
   "name": "py3.9.1_eda"
  },
  "language_info": {
   "codemirror_mode": {
    "name": "ipython",
    "version": 3
   },
   "file_extension": ".py",
   "mimetype": "text/x-python",
   "name": "python",
   "nbconvert_exporter": "python",
   "pygments_lexer": "ipython3",
   "version": "3.9.1"
  },
  "toc": {
   "base_numbering": 1,
   "nav_menu": {},
   "number_sections": false,
   "sideBar": true,
   "skip_h1_title": true,
   "title_cell": "Table of Contents",
   "title_sidebar": "Contents",
   "toc_cell": false,
   "toc_position": {},
   "toc_section_display": true,
   "toc_window_display": false
  },
  "varInspector": {
   "cols": {
    "lenName": 16,
    "lenType": 16,
    "lenVar": 40
   },
   "kernels_config": {
    "python": {
     "delete_cmd_postfix": "",
     "delete_cmd_prefix": "del ",
     "library": "var_list.py",
     "varRefreshCmd": "print(var_dic_list())"
    },
    "r": {
     "delete_cmd_postfix": ") ",
     "delete_cmd_prefix": "rm(",
     "library": "var_list.r",
     "varRefreshCmd": "cat(var_dic_list()) "
    }
   },
   "types_to_exclude": [
    "module",
    "function",
    "builtin_function_or_method",
    "instance",
    "_Feature"
   ],
   "window_display": false
  }
 },
 "nbformat": 4,
 "nbformat_minor": 5
}
